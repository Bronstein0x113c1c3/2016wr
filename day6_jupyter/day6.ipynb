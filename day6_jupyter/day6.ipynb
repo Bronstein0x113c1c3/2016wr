{
 "cells": [
  {
   "cell_type": "code",
   "execution_count": 3,
   "metadata": {},
   "outputs": [],
   "source": [
    "use std::fmt::Display;\n",
    "use std::fmt;\n",
    "struct Rectangle{\n",
    "    width: u32,\n",
    "    length:u32,\n",
    "}\n",
    "\n",
    "impl Display for Rectangle{\n",
    "    fn fmt(&self, f: &mut fmt::Formatter<'_>)-> fmt::Result{\n",
    "        write!(f,\"the width: {}, the length: {}, the area: {}\",self.width, self.length, self.width*self.length)\n",
    "    }\n",
    "}"
   ]
  },
  {
   "cell_type": "code",
   "execution_count": 6,
   "metadata": {},
   "outputs": [
    {
     "name": "stdout",
     "output_type": "stream",
     "text": [
      "the width: 32, the length: 64, the area: 2048\n"
     ]
    }
   ],
   "source": [
    "let r1 = Rectangle {width:32,length:64};\n",
    "println!(\"{}\",r1);"
   ]
  },
  {
   "cell_type": "code",
   "execution_count": null,
   "metadata": {},
   "outputs": [],
   "source": []
  }
 ],
 "metadata": {
  "kernelspec": {
   "display_name": "Rust",
   "language": "rust",
   "name": "rust"
  },
  "language_info": {
   "codemirror_mode": "rust",
   "file_extension": ".rs",
   "mimetype": "text/rust",
   "name": "rust",
   "pygment_lexer": "rust",
   "version": ""
  }
 },
 "nbformat": 4,
 "nbformat_minor": 2
}
