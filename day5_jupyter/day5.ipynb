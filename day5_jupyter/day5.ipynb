{
 "cells": [
  {
   "cell_type": "code",
   "execution_count": 10,
   "metadata": {},
   "outputs": [],
   "source": [
    "#[derive(Debug)]\n",
    "struct User {\n",
    "    username: String,\n",
    "    email: String,\n",
    "    sign_in_count: i64,\n",
    "    active:bool,\n",
    "}"
   ]
  },
  {
   "cell_type": "code",
   "execution_count": 11,
   "metadata": {},
   "outputs": [],
   "source": [
    "let mut user1 = User{\n",
    "    email: String::from(\"someone@example.com\"),\n",
    "    username: String::from(\"someusername123\"),\n",
    "    active:true,\n",
    "    sign_in_count:1\n",
    "};"
   ]
  },
  {
   "cell_type": "code",
   "execution_count": 12,
   "metadata": {},
   "outputs": [],
   "source": [
    "fn build_user(email:&str, username: &str)->User{\n",
    "    User{\n",
    "        email: email.to_string(),\n",
    "        username: username.to_string(),\n",
    "        active:true,\n",
    "        sign_in_count : 1,\n",
    "    }\n",
    "}"
   ]
  },
  {
   "cell_type": "code",
   "execution_count": 15,
   "metadata": {},
   "outputs": [
    {
     "name": "stdout",
     "output_type": "stream",
     "text": [
      "User { username: \"jonathan0x113c1c3\", email: \"Bronstein\", sign_in_count: 3, active: true }\n"
     ]
    }
   ],
   "source": [
    "let mut user2 = build_user(&\"Bronstein\",&\"jonathan0x113c1c3\");\n",
    "user2.sign_in_count = 3;\n",
    "println!(\"{:?}\",user2);"
   ]
  },
  {
   "cell_type": "code",
   "execution_count": 2,
   "metadata": {},
   "outputs": [
    {
     "name": "stdout",
     "output_type": "stream",
     "text": [
      "1500\n"
     ]
    },
    {
     "name": "stdout",
     "output_type": "stream",
     "text": [
      "12\n",
      "12\n"
     ]
    }
   ],
   "source": [
    "#[derive(Debug)]\n",
    "struct Retangle{\n",
    "    width: u32,\n",
    "    length: u32,\n",
    "}\n",
    "impl Retangle{\n",
    "    fn area(&self)-> u32{\n",
    "        self.width * self.length\n",
    "    }\n",
    "    fn change_dimension(&mut self, width: u32, length:u32){\n",
    "        self.width = width;\n",
    "        self.length = length;\n",
    "    }\n",
    "    fn calculate_then_dispose(self) ->u32{\n",
    "        self.width * self.length\n",
    "    }\n",
    "}\n",
    "let mut r1 = Retangle{width:30, length:50};\n",
    "println!(\"{:?}\",r1.area());\n",
    "r1.change_dimension(3,4);\n",
    "println!(\"{:?}\",r1.area());\n",
    "println!(\"{:?}\",r1.calculate_then_dispose());"
   ]
  },
  {
   "cell_type": "code",
   "execution_count": null,
   "metadata": {},
   "outputs": [],
   "source": [
    "let mut res = 0;\n",
    "for i in (0..1<<8){\n",
    "    if (i&(1<<7)>0)||(){\n",
    "\n",
    "    }\n",
    "}"
   ]
  }
 ],
 "metadata": {
  "kernelspec": {
   "display_name": "Rust",
   "language": "rust",
   "name": "rust"
  },
  "language_info": {
   "codemirror_mode": "rust",
   "file_extension": ".rs",
   "mimetype": "text/rust",
   "name": "rust",
   "pygment_lexer": "rust",
   "version": ""
  }
 },
 "nbformat": 4,
 "nbformat_minor": 2
}
